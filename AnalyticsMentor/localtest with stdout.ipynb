{
 "cells": [
  {
   "cell_type": "code",
   "execution_count": 7,
   "metadata": {},
   "outputs": [
    {
     "name": "stdout",
     "output_type": "stream",
     "text": [
      "id\tst_num\tst_name\tcity\tstate\n",
      "1\t123\tMain St\tAnytown\tCA\n",
      "2\t456\tFirst St\tDifferent town\tNY\n",
      "NULL\t555\tMystery St\tUnknown\tXX\n"
     ]
    }
   ],
   "source": [
    "import psycopg2, sys\n",
    "\n",
    "conn = psycopg2.connect(\"dbname= analytics_mentor_training user=rmetzk password=g0dmode56!\")\n",
    "cur = conn.cursor()\n",
    "\n",
    "sql = \"copy addresses to stdout with csv header delimiter '\\t' null 'NULL'\"\n",
    "cur.copy_expert(sql, sys.stdout)\n",
    "\n",
    "# p_query = \"SELECT * FROM addresses\"\n",
    "# cur.execute(p_query)\n",
    "# results =  cur.fetchall()\n",
    "# print(results)"
   ]
  }
 ],
 "metadata": {
  "kernelspec": {
   "display_name": "base",
   "language": "python",
   "name": "python3"
  },
  "language_info": {
   "codemirror_mode": {
    "name": "ipython",
    "version": 3
   },
   "file_extension": ".py",
   "mimetype": "text/x-python",
   "name": "python",
   "nbconvert_exporter": "python",
   "pygments_lexer": "ipython3",
   "version": "3.10.1"
  },
  "orig_nbformat": 4
 },
 "nbformat": 4,
 "nbformat_minor": 2
}
